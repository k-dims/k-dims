{
 "cells": [
  {
   "cell_type": "markdown",
   "metadata": {},
   "source": [
    "[문제]\n",
    "\n",
    "'Account' 클래스를 작성하세요. \n",
    "\n",
    "이 클래스는 소유자(owner)와 잔액(balance)을 속성으로 가지며, 잔액은 프라이빗 변수로 선언합니다. \n",
    "\n",
    "'deposit'와 'withdraw' 두 개의 메소드를 통해 잔액을 조작할 수 있도록 하세요. \n",
    "\n",
    "이 때, 잔액은 음수가 될 수 없도록 체크해야 합니다. 'Account' 객체를 생성하고,<br>\n",
    "입금 및 출금 작업을 시뮬레이션한 후, 최종 잔액을 출력하세요."
   ]
  },
  {
   "cell_type": "code",
   "execution_count": 11,
   "metadata": {},
   "outputs": [
    {
     "name": "stdout",
     "output_type": "stream",
     "text": [
      "4500원을 입금하여 현재 잔액은 14500 입니다.\n",
      "3000원을 출금하여 현재 잔액은 11500 입니다.\n",
      "현재 잔액은 11500 입니다.\n"
     ]
    }
   ],
   "source": [
    "class Account:\n",
    "    def __init__(self, owner, balance):\n",
    "        self.owner = owner\n",
    "        self.balance = balance\n",
    "    \n",
    "    def deposit(self, amount):\n",
    "        if amount > 0:\n",
    "           self.balance += amount\n",
    "           print(f'{amount}원을 입금하여 현재 잔액은 {self.balance} 입니다.')\n",
    "        \n",
    "        else:\n",
    "            print('입금을 실패 했습니다.')\n",
    "\n",
    "    def withdraw(self, amount):\n",
    "        if 0 <= amount <= self.balance:\n",
    "            self.balance -= amount\n",
    "            print(f'{amount}원을 출금하여 현재 잔액은 {self.balance} 입니다.')\n",
    "        else:\n",
    "            print('출금에 실패 했습니다.')\n",
    "            \n",
    "    def get_balance(self):\n",
    "        return self.balance\n",
    "\n",
    "account = Account(\"바보\", 10000)\n",
    "account.deposit(4500)\n",
    "account.withdraw(3000)\n",
    "print(f'현재 잔액은 {account.get_balance()} 입니다.')"
   ]
  }
 ],
 "metadata": {
  "kernelspec": {
   "display_name": "Python 3",
   "language": "python",
   "name": "python3"
  },
  "language_info": {
   "codemirror_mode": {
    "name": "ipython",
    "version": 3
   },
   "file_extension": ".py",
   "mimetype": "text/x-python",
   "name": "python",
   "nbconvert_exporter": "python",
   "pygments_lexer": "ipython3",
   "version": "3.9.6"
  }
 },
 "nbformat": 4,
 "nbformat_minor": 2
}
